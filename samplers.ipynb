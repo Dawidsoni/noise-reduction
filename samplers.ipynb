{
 "cells": [
  {
   "cell_type": "code",
   "execution_count": 68,
   "id": "phantom-partition",
   "metadata": {},
   "outputs": [],
   "source": [
    "from typing import List\n",
    "import os\n",
    "import abc\n",
    "import dataclasses\n",
    "from dataclasses import dataclass\n",
    "import scipy.stats\n",
    "import numpy as np\n",
    "import pandas as pd\n",
    "import PIL\n",
    "import functools\n",
    "from PIL import Image\n",
    "import matplotlib.pyplot as plt\n",
    "import time\n",
    "import datetime"
   ]
  },
  {
   "cell_type": "markdown",
   "id": "cooked-honduras",
   "metadata": {},
   "source": [
    "## Utilities"
   ]
  },
  {
   "cell_type": "code",
   "execution_count": 2,
   "id": "likely-boundary",
   "metadata": {},
   "outputs": [],
   "source": [
    "def load_grayscale_image_as_numpy_array(path):\n",
    "    return np.asarray(Image.open(path).convert(mode='L')).astype(np.float32)\n",
    "\n",
    "\n",
    "def load_binary_image_as_numpy_array(path):\n",
    "    image = load_grayscale_image_as_numpy_array(path)\n",
    "    return 255.0 * (image > 127.5)\n",
    "\n",
    "\n",
    "def show_image(image, figsize=(12, 8), cmap='gray'):\n",
    "    plt.figure(figsize=figsize)\n",
    "    plt.tick_params(labelbottom=False, labelleft=False)\n",
    "    plt.imshow(image, cmap=cmap)"
   ]
  },
  {
   "cell_type": "code",
   "execution_count": 3,
   "id": "integrated-horizontal",
   "metadata": {},
   "outputs": [],
   "source": [
    "def pad_ising_model(input_image):\n",
    "    return np.pad(input_image, pad_width=1, mode='symmetric')\n",
    "\n",
    "\n",
    "def unpad_ising_model(input_image):\n",
    "    return input_image[1:-1, 1:-1]\n",
    "\n",
    "\n",
    "def convert_image_to_ising_model(input_image):\n",
    "    return pad_ising_model(input_image / 127.5 - 1.0)\n",
    "\n",
    "\n",
    "def convert_ising_model_to_image(input_image):\n",
    "    return unpad_ising_model((input_image + 1.0) * 127.5)"
   ]
  },
  {
   "cell_type": "markdown",
   "id": "recovered-australian",
   "metadata": {},
   "source": [
    "## Test data"
   ]
  },
  {
   "cell_type": "code",
   "execution_count": 77,
   "id": "grand-updating",
   "metadata": {},
   "outputs": [],
   "source": [
    "BINARY_IMAGES_PATH = \"binary_images/300x300_easy_noise10\"\n",
    "GRAYSCALE_IMAGES_PATH = \"grayscale_images/size800_noise10_independent_distance100\""
   ]
  },
  {
   "cell_type": "code",
   "execution_count": 78,
   "id": "experienced-weather",
   "metadata": {},
   "outputs": [],
   "source": [
    "BINARY_IMAGE_OBSEVATION = load_binary_image_as_numpy_array(\n",
    "    path=os.path.join(BINARY_IMAGES_PATH, \"image_0_observation.png\")\n",
    ")\n",
    "BINARY_IMAGE_GROUND_TRUTH = load_binary_image_as_numpy_array(\n",
    "    path=os.path.join(BINARY_IMAGES_PATH, \"image_0_ground_truth.png\")\n",
    ")\n",
    "GRAYSCALE_IMAGE_OBSERVATION = load_grayscale_image_as_numpy_array(\n",
    "    path=os.path.join(GRAYSCALE_IMAGES_PATH, \"image_1_observation.png\")\n",
    ")\n",
    "GRAYSCALE_IMAGE_GROUND_TRUTH = load_grayscale_image_as_numpy_array(\n",
    "    path=os.path.join(GRAYSCALE_IMAGES_PATH, \"image_1_ground_truth.png\")\n",
    ")"
   ]
  },
  {
   "cell_type": "markdown",
   "id": "legitimate-authorization",
   "metadata": {},
   "source": [
    "## Interface for noise reducers"
   ]
  },
  {
   "cell_type": "code",
   "execution_count": 6,
   "id": "dense-wildlife",
   "metadata": {},
   "outputs": [],
   "source": [
    "@dataclass\n",
    "class NoiseReducerStatistics(object):\n",
    "    evaluation_losses: List[float] = dataclasses.field(default_factory=list)\n",
    "    computation_times: List[float] = dataclasses.field(default_factory=list)\n",
    "\n",
    "\n",
    "@dataclass\n",
    "class NoiseReducerResult(object):\n",
    "    original_image: np.ndarray\n",
    "    obsevation: np.ndarray\n",
    "    reduced_image: np.ndarray\n",
    "    statistics: NoiseReducerStatistics"
   ]
  },
  {
   "cell_type": "code",
   "execution_count": 37,
   "id": "recognized-nomination",
   "metadata": {},
   "outputs": [],
   "source": [
    "class SupervisedNoiseReducer(object):\n",
    "    def __init__(self, iterations_count, iterations_per_evaluation):\n",
    "        self._iterations_count = iterations_count\n",
    "        self._iterations_per_evaluation = iterations_per_evaluation\n",
    "        self._average_statistics = NoiseReducerStatistics()\n",
    "\n",
    "    @property\n",
    "    def average_statistics(self):\n",
    "        return self._average_statistics\n",
    "\n",
    "    @abc.abstractmethod\n",
    "    def _sampler_step(self, observation, current_state):\n",
    "        pass\n",
    "    \n",
    "    def _evaluate_noise_reduction(self, original_image, reduced_image):\n",
    "        return np.mean(np.abs(original_image - reduced_image))\n",
    "    \n",
    "    def _update_average_statistics(self, image_statistics):\n",
    "        evaluation_loss = image_statistics.evaluation_losses[-1]\n",
    "        self.average_statistics.evaluation_losses.append(evaluation_loss)\n",
    "        average_computation_time = np.mean(image_statistics.computation_times)\n",
    "        self.average_statistics.computation_times.append(average_computation_time)        \n",
    "\n",
    "    def reduce_noise(self, original_image, observation):\n",
    "        initial_state = convert_image_to_ising_model(observation)\n",
    "        current_state = initial_state.copy()\n",
    "        statistics = NoiseReducerStatistics()\n",
    "        for iteration in range(1, self._iterations_count + 1):\n",
    "            start_time = time.time()          \n",
    "            self._sampler_step(initial_state, current_state)\n",
    "            statistics.computation_times.append(1000 * (time.time() - start_time))\n",
    "            if iteration % self._iterations_per_evaluation == 0:\n",
    "                statistics.evaluation_losses.append(self._evaluate_noise_reduction(\n",
    "                    original_image=original_image,                    \n",
    "                    reduced_image=convert_ising_model_to_image(current_state),\n",
    "                ))\n",
    "        self._update_average_statistics(statistics)\n",
    "        return NoiseReducerResult(\n",
    "            original_image=original_image,\n",
    "            obsevation=observation,\n",
    "            reduced_image=convert_ising_model_to_image(current_state),\n",
    "            statistics=statistics,\n",
    "        )"
   ]
  },
  {
   "cell_type": "markdown",
   "id": "educational-adapter",
   "metadata": {},
   "source": [
    "## BinaryGibbsNoiseReducer"
   ]
  },
  {
   "cell_type": "code",
   "execution_count": 101,
   "id": "useful-florida",
   "metadata": {},
   "outputs": [],
   "source": [
    "class BinaryGibbsNoiseReducer(SupervisedNoiseReducer):\n",
    "    def __init__(self, noise_level_prior, observation_strength, coupling_strength, **kwargs):\n",
    "        self._noise_level_prior = noise_level_prior\n",
    "        self._observation_strength = observation_strength\n",
    "        self._coupling_strength = coupling_strength\n",
    "        super(BinaryGibbsNoiseReducer, self).__init__(**kwargs)\n",
    "\n",
    "    def _observation_potential(self, observation_pbty):\n",
    "        return self._observation_strength * np.log(observation_pbty)\n",
    "\n",
    "    @functools.lru_cache(maxsize=None)\n",
    "    def _positive_observation_potential(self, observation_value):\n",
    "        if observation_value >= 0.0:\n",
    "            return self._observation_potential(1.0 - self._noise_level_prior)\n",
    "        return self._observation_potential(self._noise_level_prior)\n",
    "\n",
    "    @functools.lru_cache(maxsize=None)    \n",
    "    def _negative_observation_potential(self, observation_value):\n",
    "        if observation_value < 0.0:\n",
    "            return self._observation_potential(1.0 - self._noise_level_prior)\n",
    "        return self._observation_potential(self._noise_level_prior)\n",
    "\n",
    "    def _sampler_step(self, observation, current_state):\n",
    "        row = np.random.randint(low=1, high=(current_state.shape[0] - 1))\n",
    "        column = np.random.randint(low=1, high=(current_state.shape[1] - 1))\n",
    "        neighbours_sum = np.sum([\n",
    "            current_state[row - 1, column], current_state[row + 1, column],\n",
    "            current_state[row, column - 1], current_state[row, column + 1],\n",
    "        ])\n",
    "        positive_observation_potential = self._positive_observation_potential(\n",
    "            observation[row, column]\n",
    "        )\n",
    "        negative_observation_potential = self._negative_observation_potential(\n",
    "            observation[row, column]\n",
    "        )\n",
    "        positive_coupling = self._coupling_strength * 2.0 * neighbours_sum\n",
    "        negative_coupling = self._coupling_strength * 2.0 * -neighbours_sum\n",
    "        positive_potential = np.exp(positive_observation_potential + positive_coupling)\n",
    "        negative_potential = np.exp(negative_observation_potential + negative_coupling)\n",
    "        positive_pbty = positive_potential / (positive_potential + negative_potential)\n",
    "        if np.random.uniform() <= positive_pbty:\n",
    "            current_state[row, column] = 1.0\n",
    "        else:\n",
    "            current_state[row, column] = -1.0"
   ]
  },
  {
   "cell_type": "code",
   "execution_count": null,
   "id": "persistent-liability",
   "metadata": {},
   "outputs": [],
   "source": [
    "reducer = BinaryGibbsNoiseReducer(\n",
    "    noise_level_prior=0.1,\n",
    "    observation_strength=1.0,\n",
    "    coupling_strength=4.0,\n",
    "    iterations_count=3_000_000,\n",
    "    iterations_per_evaluation=100,\n",
    ")\n",
    "reducer_result = reducer.reduce_noise(BINARY_IMAGE_GROUND_TRUTH, BINARY_IMAGE_OBSEVATION)\n",
    "reducer.average_statistics"
   ]
  },
  {
   "cell_type": "code",
   "execution_count": null,
   "id": "handy-working",
   "metadata": {},
   "outputs": [],
   "source": [
    "show_image(reducer_result.reduced_image)"
   ]
  },
  {
   "cell_type": "code",
   "execution_count": 72,
   "id": "small-knight",
   "metadata": {},
   "outputs": [],
   "source": []
  },
  {
   "cell_type": "code",
   "execution_count": null,
   "id": "widespread-bankruptcy",
   "metadata": {},
   "outputs": [],
   "source": []
  }
 ],
 "metadata": {
  "kernelspec": {
   "display_name": "Python 3",
   "language": "python",
   "name": "python3"
  },
  "language_info": {
   "codemirror_mode": {
    "name": "ipython",
    "version": 3
   },
   "file_extension": ".py",
   "mimetype": "text/x-python",
   "name": "python",
   "nbconvert_exporter": "python",
   "pygments_lexer": "ipython3",
   "version": "3.7.3"
  }
 },
 "nbformat": 4,
 "nbformat_minor": 5
}
