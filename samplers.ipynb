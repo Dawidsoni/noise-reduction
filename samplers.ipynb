{
 "cells": [
  {
   "cell_type": "code",
   "execution_count": 18,
   "id": "phantom-partition",
   "metadata": {},
   "outputs": [],
   "source": [
    "import os\n",
    "import abc\n",
    "import numpy as np\n",
    "import pandas as pd\n",
    "import PIL\n",
    "from PIL import Image\n",
    "import matplotlib.pyplot as plt"
   ]
  },
  {
   "cell_type": "markdown",
   "id": "involved-toronto",
   "metadata": {},
   "source": [
    "## Parameters"
   ]
  },
  {
   "cell_type": "code",
   "execution_count": 37,
   "id": "signal-mixture",
   "metadata": {},
   "outputs": [],
   "source": [
    "BINARY_IMAGES_PATH = \"binary_images/1000x1000_easy_noise10\"\n",
    "GRAYSCALE_IMAGES_PATH = \"grayscale_images/size800_noise10_independent_distance100\""
   ]
  },
  {
   "cell_type": "code",
   "execution_count": 38,
   "id": "dynamic-villa",
   "metadata": {},
   "outputs": [],
   "source": [
    "BINARY_IMAGE_OBSEVATION = os.path.join(BINARY_IMAGES_PATH, \"image_0_observation.png\")\n",
    "BINARY_IMAGE_GROUND_TRUTH = os.path.join(BINARY_IMAGES_PATH, \"image_0_ground_truth.png\")\n",
    "GRAYSCALE_IMAGE_OBSERVATION = os.path.join(GRAYSCALE_IMAGES_PATH, \"image_1_observation.png\")\n",
    "GRAYSCALE_IMAGE_GROUND_TRUTH = os.path.join(GRAYSCALE_IMAGES_PATH, \"image_1_ground_truth.png\")"
   ]
  },
  {
   "cell_type": "markdown",
   "id": "sapphire-above",
   "metadata": {},
   "source": [
    "## Utilities"
   ]
  },
  {
   "cell_type": "code",
   "execution_count": 11,
   "id": "veterinary-blood",
   "metadata": {},
   "outputs": [],
   "source": [
    "def load_grayscale_image_as_numpy_array(path):\n",
    "    return np.asarray(Image.open(path).convert(mode='L')).astype(np.float32)\n",
    "\n",
    "\n",
    "def load_binary_image_as_numpy_array(path):\n",
    "    image = load_grayscale_image_as_numpy_array(path)\n",
    "    return 255.0 * (image > 127.5)\n",
    "\n",
    "\n",
    "def show_grayscale_image(image):\n",
    "    plt.figure(figsize=(12, 8))\n",
    "    plt.tick_params(labelbottom=False, labelleft=False)\n",
    "    plt.imshow(image, cmap='gray')"
   ]
  },
  {
   "cell_type": "code",
   "execution_count": 12,
   "id": "headed-display",
   "metadata": {},
   "outputs": [],
   "source": [
    "def convert_grayscale_image_to_ising_image(input_image):\n",
    "    return input_image / 127.5 - 1.0\n",
    "\n",
    "\n",
    "def convert_ising_image_to_grayscale_image(input_image):\n",
    "    return (input_image + 1.0) * 127.5"
   ]
  },
  {
   "cell_type": "code",
   "execution_count": 8,
   "id": "brave-little",
   "metadata": {},
   "outputs": [],
   "source": [
    "def pad_ising_image(input_image):\n",
    "    return np.pad(input_image, pad_width=1, mode='symmetric')\n",
    "\n",
    "\n",
    "def unpad_ising_image(input_image):\n",
    "    return input_image[1:-1, 1:-1]"
   ]
  },
  {
   "cell_type": "markdown",
   "id": "suffering-hobby",
   "metadata": {},
   "source": [
    "## Noise reducers"
   ]
  },
  {
   "cell_type": "code",
   "execution_count": 4,
   "id": "affecting-planner",
   "metadata": {},
   "outputs": [],
   "source": [
    "class SupervisedNoiseReducer(object):\n",
    "    def __init__(self):\n",
    "        pass\n",
    "\n",
    "    @abc.abstractmethod\n",
    "    def _sampler_step(self):\n",
    "        pass\n",
    "    \n",
    "    def reduce_noise(observation, original_image):\n",
    "        initial_state = pad_ising_image(convert_grayscale_image_to_ising_image(input_image))\n",
    "        current_state = initial_state.copy()\n",
    "        for _ in range(iterations_count):\n",
    "            gibbs_sampler_iteration(initial_state, current_state, coupling_strength)    \n",
    "        return convert_ising_image_to_grayscale_image(unpad_ising_image(current_state))        \n",
    "        pass\n",
    "    "
   ]
  },
  {
   "cell_type": "code",
   "execution_count": null,
   "id": "moved-waste",
   "metadata": {},
   "outputs": [],
   "source": [
    "@functools.lru_cache(maxsize=None)\n",
    "def get_probability_of_value(value, distribution_mean, distribution_std):\n",
    "    return scipy.stats.norm.pdf(\n",
    "        x=value, loc=distribution_mean, scale=distribution_std,\n",
    "    )\n",
    "\n",
    "def gibbs_sampler_iteration(initial_state, current_state, coupling_strength):\n",
    "    row = np.random.randint(low=1, high=(current_state.shape[0] - 1))\n",
    "    column = np.random.randint(low=1, high=(current_state.shape[1] - 1))\n",
    "    neighbours_sum = np.sum([\n",
    "        current_state[row - 1, column], current_state[row + 1, column],\n",
    "        current_state[row, column - 1], current_state[row, column + 1],\n",
    "    ])\n",
    "    positive_coupling = np.exp(coupling_strength * neighbours_sum)\n",
    "    negative_coupling = np.exp(-coupling_strength * neighbours_sum)\n",
    "    get_observation_pbty = functools.partial(\n",
    "        get_probability_of_value,\n",
    "        value=current_state[row, column],\n",
    "        distribution_std=1.0,\n",
    "    )\n",
    "    positive_potential = get_observation_pbty(distribution_mean=1.0) * positive_coupling\n",
    "    negative_potential = get_observation_pbty(distribution_mean=-1.0) * negative_coupling\n",
    "    positive_pbty = positive_potential / (positive_potential + negative_potential)\n",
    "    if np.random.uniform() <= positive_pbty:\n",
    "        current_state[row, column] = 1.0\n",
    "    else:\n",
    "        current_state[row, column] = -1.0\n",
    "    \n",
    "\n",
    "def reduce_noise_using_gibbs_sampler(input_image, coupling_strength, iterations_count):\n",
    "    initial_state = pad_ising_image(convert_grayscale_image_to_ising_image(input_image))\n",
    "    current_state = initial_state.copy()\n",
    "    for _ in range(iterations_count):\n",
    "        gibbs_sampler_iteration(initial_state, current_state, coupling_strength)    \n",
    "    return convert_ising_image_to_grayscale_image(unpad_ising_image(current_state))"
   ]
  }
 ],
 "metadata": {
  "kernelspec": {
   "display_name": "Python 3",
   "language": "python",
   "name": "python3"
  },
  "language_info": {
   "codemirror_mode": {
    "name": "ipython",
    "version": 3
   },
   "file_extension": ".py",
   "mimetype": "text/x-python",
   "name": "python",
   "nbconvert_exporter": "python",
   "pygments_lexer": "ipython3",
   "version": "3.7.3"
  }
 },
 "nbformat": 4,
 "nbformat_minor": 5
}
