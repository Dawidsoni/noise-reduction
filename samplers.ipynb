{
 "cells": [
  {
   "cell_type": "code",
   "execution_count": 130,
   "id": "phantom-partition",
   "metadata": {},
   "outputs": [],
   "source": [
    "from typing import List\n",
    "import os\n",
    "import abc\n",
    "import dataclasses\n",
    "from dataclasses import dataclass\n",
    "from collections import defaultdict\n",
    "import scipy.stats\n",
    "import numpy as np\n",
    "import pandas as pd\n",
    "import PIL\n",
    "import functools\n",
    "from PIL import Image\n",
    "import matplotlib.pyplot as plt\n",
    "import time\n",
    "import datetime"
   ]
  },
  {
   "cell_type": "markdown",
   "id": "inclusive-approach",
   "metadata": {},
   "source": [
    "## Utilities"
   ]
  },
  {
   "cell_type": "code",
   "execution_count": 2,
   "id": "intelligent-digit",
   "metadata": {},
   "outputs": [],
   "source": [
    "def load_grayscale_image_as_numpy_array(path):\n",
    "    return np.asarray(Image.open(path).convert(mode='L')).astype(np.float32)\n",
    "\n",
    "\n",
    "def load_binary_image_as_numpy_array(path):\n",
    "    image = load_grayscale_image_as_numpy_array(path)\n",
    "    return 255.0 * (image > 127.5)\n",
    "\n",
    "\n",
    "def show_image(image, figsize=(12, 8), cmap='gray'):\n",
    "    plt.figure(figsize=figsize)\n",
    "    plt.tick_params(labelbottom=False, labelleft=False)\n",
    "    plt.imshow(image, cmap=cmap)"
   ]
  },
  {
   "cell_type": "code",
   "execution_count": 3,
   "id": "spare-husband",
   "metadata": {},
   "outputs": [],
   "source": [
    "def pad_ising_model(input_image):\n",
    "    return np.pad(input_image, pad_width=1, mode='symmetric')\n",
    "\n",
    "\n",
    "def unpad_ising_model(input_image):\n",
    "    return input_image[1:-1, 1:-1]\n",
    "\n",
    "\n",
    "def convert_image_to_ising_model(input_image):\n",
    "    return pad_ising_model(input_image / 127.5 - 1.0)\n",
    "\n",
    "\n",
    "def convert_ising_model_to_image(input_image):\n",
    "    return unpad_ising_model((input_image + 1.0) * 127.5)"
   ]
  },
  {
   "cell_type": "markdown",
   "id": "certain-complaint",
   "metadata": {},
   "source": [
    "## Test data"
   ]
  },
  {
   "cell_type": "code",
   "execution_count": 77,
   "id": "incomplete-practitioner",
   "metadata": {},
   "outputs": [],
   "source": [
    "BINARY_IMAGES_PATH = \"binary_images/300x300_easy_noise10\"\n",
    "GRAYSCALE_IMAGES_PATH = \"grayscale_images/size800_noise10_independent_distance100\""
   ]
  },
  {
   "cell_type": "code",
   "execution_count": 78,
   "id": "incoming-landscape",
   "metadata": {},
   "outputs": [],
   "source": [
    "BINARY_IMAGE_OBSEVATION = load_binary_image_as_numpy_array(\n",
    "    path=os.path.join(BINARY_IMAGES_PATH, \"image_0_observation.png\")\n",
    ")\n",
    "BINARY_IMAGE_GROUND_TRUTH = load_binary_image_as_numpy_array(\n",
    "    path=os.path.join(BINARY_IMAGES_PATH, \"image_0_ground_truth.png\")\n",
    ")\n",
    "GRAYSCALE_IMAGE_OBSERVATION = load_grayscale_image_as_numpy_array(\n",
    "    path=os.path.join(GRAYSCALE_IMAGES_PATH, \"image_1_observation.png\")\n",
    ")\n",
    "GRAYSCALE_IMAGE_GROUND_TRUTH = load_grayscale_image_as_numpy_array(\n",
    "    path=os.path.join(GRAYSCALE_IMAGES_PATH, \"image_1_ground_truth.png\")\n",
    ")"
   ]
  },
  {
   "cell_type": "markdown",
   "id": "interested-clear",
   "metadata": {},
   "source": [
    "## Interface for noise reducers"
   ]
  },
  {
   "cell_type": "code",
   "execution_count": 6,
   "id": "respected-armenia",
   "metadata": {},
   "outputs": [],
   "source": [
    "@dataclass\n",
    "class NoiseReducerStatistics(object):\n",
    "    evaluation_losses: List[float] = dataclasses.field(default_factory=list)\n",
    "    computation_times: List[float] = dataclasses.field(default_factory=list)\n",
    "\n",
    "\n",
    "@dataclass\n",
    "class NoiseReducerResult(object):\n",
    "    original_image: np.ndarray\n",
    "    obsevation: np.ndarray\n",
    "    reduced_image: np.ndarray\n",
    "    statistics: NoiseReducerStatistics"
   ]
  },
  {
   "cell_type": "code",
   "execution_count": 116,
   "id": "occasional-leather",
   "metadata": {},
   "outputs": [],
   "source": [
    "class SupervisedNoiseReducer(object):\n",
    "    def __init__(self, iterations_count, iterations_per_evaluation):\n",
    "        self._iterations_count = iterations_count\n",
    "        self._iterations_per_evaluation = iterations_per_evaluation\n",
    "        self._average_statistics = NoiseReducerStatistics()\n",
    "\n",
    "    @property\n",
    "    def average_statistics(self):\n",
    "        return self._average_statistics\n",
    "\n",
    "    def _preprocess(self, observation):\n",
    "        pass\n",
    "\n",
    "    @abc.abstractmethod\n",
    "    def _sampler_step(self, observation, current_state):\n",
    "        pass\n",
    "    \n",
    "    def _evaluate_noise_reduction(self, original_image, reduced_image):\n",
    "        return np.mean(np.abs(original_image - reduced_image))\n",
    "    \n",
    "    def _update_average_statistics(self, image_statistics):\n",
    "        evaluation_loss = image_statistics.evaluation_losses[-1]\n",
    "        self.average_statistics.evaluation_losses.append(evaluation_loss)\n",
    "        average_computation_time = np.mean(image_statistics.computation_times)\n",
    "        self.average_statistics.computation_times.append(average_computation_time)        \n",
    "\n",
    "    def reduce_noise(self, original_image, observation):\n",
    "        initial_state = convert_image_to_ising_model(observation)\n",
    "        current_state = initial_state.copy()\n",
    "        statistics = NoiseReducerStatistics()\n",
    "        self._preprocess(initial_state)\n",
    "        for iteration in range(1, self._iterations_count + 1):\n",
    "            start_time = time.time()          \n",
    "            self._sampler_step(initial_state, current_state)\n",
    "            statistics.computation_times.append(1000 * (time.time() - start_time))\n",
    "            if iteration % self._iterations_per_evaluation == 0:\n",
    "                statistics.evaluation_losses.append(self._evaluate_noise_reduction(\n",
    "                    original_image=original_image,                    \n",
    "                    reduced_image=convert_ising_model_to_image(current_state),\n",
    "                ))\n",
    "        self._update_average_statistics(statistics)\n",
    "        return NoiseReducerResult(\n",
    "            original_image=original_image,\n",
    "            obsevation=observation,\n",
    "            reduced_image=convert_ising_model_to_image(current_state),\n",
    "            statistics=statistics,\n",
    "        )"
   ]
  },
  {
   "cell_type": "markdown",
   "id": "convinced-decimal",
   "metadata": {},
   "source": [
    "## BinaryGibbsNoiseReducer"
   ]
  },
  {
   "cell_type": "code",
   "execution_count": 199,
   "id": "individual-sunday",
   "metadata": {},
   "outputs": [],
   "source": [
    "class BinaryGibbsNoiseReducer(SupervisedNoiseReducer):\n",
    "    def __init__(self, noise_level_prior, observation_strength, coupling_strength, **kwargs):\n",
    "        self._noise_level_prior = noise_level_prior\n",
    "        self._observation_strength = observation_strength\n",
    "        self._coupling_strength = coupling_strength\n",
    "        super(BinaryGibbsNoiseReducer, self).__init__(**kwargs)\n",
    "\n",
    "    def _observation_potential(self, observation_pbty):\n",
    "        return self._observation_strength * np.log(observation_pbty)\n",
    "\n",
    "    @functools.lru_cache(maxsize=None)\n",
    "    def _positive_observation_potential(self, observation_value):\n",
    "        if observation_value >= 0.0:\n",
    "            return self._observation_potential(1.0 - self._noise_level_prior)\n",
    "        return self._observation_potential(self._noise_level_prior)\n",
    "\n",
    "    @functools.lru_cache(maxsize=None)    \n",
    "    def _negative_observation_potential(self, observation_value):\n",
    "        if observation_value < 0.0:\n",
    "            return self._observation_potential(1.0 - self._noise_level_prior)\n",
    "        return self._observation_potential(self._noise_level_prior)\n",
    "\n",
    "    def _sampler_step(self, observation, current_state):\n",
    "        row = np.random.randint(low=1, high=(current_state.shape[0] - 1))\n",
    "        column = np.random.randint(low=1, high=(current_state.shape[1] - 1))\n",
    "        neighbours_sum = np.sum([\n",
    "            current_state[row - 1, column], current_state[row + 1, column],\n",
    "            current_state[row, column - 1], current_state[row, column + 1],\n",
    "        ])\n",
    "        positive_observation_potential = self._positive_observation_potential(\n",
    "            observation[row, column]\n",
    "        )\n",
    "        negative_observation_potential = self._negative_observation_potential(\n",
    "            observation[row, column]\n",
    "        )\n",
    "        positive_coupling = self._coupling_strength * 2.0 * neighbours_sum\n",
    "        negative_coupling = self._coupling_strength * 2.0 * -neighbours_sum\n",
    "        positive_potential = np.exp(positive_observation_potential + positive_coupling)\n",
    "        negative_potential = np.exp(negative_observation_potential + negative_coupling)\n",
    "        positive_pbty = positive_potential / (positive_potential + negative_potential)\n",
    "        if np.random.uniform() <= positive_pbty:\n",
    "            current_state[row, column] = 1.0\n",
    "        else:\n",
    "            current_state[row, column] = -1.0"
   ]
  },
  {
   "cell_type": "code",
   "execution_count": 201,
   "id": "hearing-petersburg",
   "metadata": {},
   "outputs": [
    {
     "data": {
      "text/plain": [
       "NoiseReducerStatistics(evaluation_losses=[0.374], computation_times=[0.03513889416058858])"
      ]
     },
     "execution_count": 201,
     "metadata": {},
     "output_type": "execute_result"
    }
   ],
   "source": [
    "reducer = BinaryGibbsNoiseReducer(\n",
    "    noise_level_prior=0.1,\n",
    "    observation_strength=1.0,\n",
    "    coupling_strength=4.0,\n",
    "    iterations_count=3_000_000,\n",
    "    iterations_per_evaluation=100,\n",
    ")\n",
    "reducer_result = reducer.reduce_noise(BINARY_IMAGE_GROUND_TRUTH, BINARY_IMAGE_OBSEVATION)\n",
    "reducer.average_statistics"
   ]
  },
  {
   "cell_type": "code",
   "execution_count": 202,
   "id": "aggressive-roads",
   "metadata": {},
   "outputs": [
    {
     "data": {
      "image/png": "[encoded data removed]",
      "text/plain": [
       "<Figure size 864x576 with 1 Axes>"
      ]
     },
     "metadata": {},
     "output_type": "display_data"
    }
   ],
   "source": [
    "show_image(reducer_result.reduced_image)"
   ]
  },
  {
   "cell_type": "markdown",
   "id": "alert-representative",
   "metadata": {},
   "source": [
    "## GradientBasedNoiseReducer"
   ]
  },
  {
   "cell_type": "code",
   "execution_count": 170,
   "id": "occupational-contributor",
   "metadata": {},
   "outputs": [],
   "source": [
    "class BucketBasedSampler(object):\n",
    "    def __init__(self):\n",
    "        self._buckets = defaultdict(list)\n",
    "        self._positions = {}\n",
    "\n",
    "    def _remove_key(self, key):\n",
    "        bucket_key, index_in_bucket  = self._positions[key]\n",
    "        del self._positions[key]\n",
    "        bucket = self._buckets[bucket_key]\n",
    "        bucket[index_in_bucket], bucket[-1] = bucket[-1], bucket[index_in_bucket]\n",
    "        bucket.pop()\n",
    "        if len(bucket) > index_in_bucket:\n",
    "            self._positions[bucket[index_in_bucket]] = (bucket_key, index_in_bucket)\n",
    "\n",
    "    def set_value(self, key, value):\n",
    "        if key in self._positions:\n",
    "            self._remove_key(key)\n",
    "        self._buckets[value].append(key)\n",
    "        self._positions[key] = (value, len(self._buckets[value]) - 1)\n",
    "    \n",
    "    def sample_key(self):\n",
    "        bucket_index_to_key = dict(enumerate(self._buckets.keys()))\n",
    "        bucket_probs = np.zeros(shape=(len(self._buckets), ))\n",
    "        for bucket_index, bucket_key in bucket_index_to_key.items():\n",
    "            bucket_probs[bucket_index] = bucket_key * len(self._buckets[bucket_key])\n",
    "        bucket_probs /= np.sum(bucket_probs)\n",
    "        sampled_bucket_index = np.random.choice(len(self._buckets), p=bucket_probs)\n",
    "        sampled_bucket = self._buckets[bucket_index_to_key[sampled_bucket_index]]\n",
    "        key_index = np.random.randint(low=0, high=len(sampled_bucket))\n",
    "        return sampled_bucket[key_index]"
   ]
  },
  {
   "cell_type": "code",
   "execution_count": 210,
   "id": "renewable-idaho",
   "metadata": {},
   "outputs": [],
   "source": [
    "class GradientBasedNoiseReducer(SupervisedNoiseReducer):\n",
    "    def __init__(\n",
    "        self, noise_level_prior, observation_strength,\n",
    "        coupling_strength, temperature, **kwargs\n",
    "    ):\n",
    "        super(GradientBasedNoiseReducer, self).__init__(**kwargs)        \n",
    "        self._noise_level_prior = noise_level_prior\n",
    "        self._observation_strength = observation_strength\n",
    "        self._coupling_strength = coupling_strength\n",
    "        if temperature < 2.0:\n",
    "            raise ValueError(f\"Expected temperature value >= 2.0, got {temperature}\")\n",
    "        self._temperature = temperature\n",
    "        self.neighbours_sampler = None\n",
    "\n",
    "    @staticmethod\n",
    "    def _get_opposite_value(value):\n",
    "        if value == 1.0:\n",
    "            return -1.0\n",
    "        elif value == -1.0:\n",
    "            return 1.0\n",
    "        else:\n",
    "            raise ValueError(f\"Invalid value: {value}\")\n",
    "    \n",
    "    def _get_state_potential(self, observation_value, state_value):\n",
    "        if observation_value == state_value:\n",
    "            return self._observation_strength * np.log(1.0 - self._noise_level_prior)\n",
    "        return self._observation_strength * np.log(self._noise_level_prior)\n",
    "\n",
    "    def _update_sampler_state(self, row, column, current_state, observation_value, next_value):\n",
    "        if row <= 0 or row >= current_state.shape[0] - 1:\n",
    "            return\n",
    "        if column <= 0 or column >= current_state.shape[1] - 1:\n",
    "            return\n",
    "        neighbours_sum = np.sum([\n",
    "            current_state[row - 1, column], current_state[row + 1, column],\n",
    "            current_state[row, column - 1], current_state[row, column + 1],\n",
    "        ])\n",
    "        current_value = current_state[row, column]\n",
    "        values_difference = next_value - current_value\n",
    "        coupling_potential = values_difference * self._coupling_strength * neighbours_sum\n",
    "        next_state_potential = self._get_state_potential(observation_value, next_value)\n",
    "        current_state_potential = self._get_state_potential(observation_value, current_value)\n",
    "        state_potential = next_state_potential - current_state_potential\n",
    "        total_potential = np.exp(self._temperature * (coupling_potential + state_potential))\n",
    "        self.neighbours_sampler.set_value(key=(row, column), value=total_potential)\n",
    "        \n",
    "    def _preprocess(self, observation):\n",
    "        self.neighbours_sampler = BucketBasedSampler()\n",
    "        for row in range(observation.shape[0]):\n",
    "            for column in range(observation.shape[1]):\n",
    "                observation_value = observation[row, column]\n",
    "                next_value = self._get_opposite_value(observation_value)\n",
    "                self._update_sampler_state(\n",
    "                    row, column, observation, observation_value, next_value,\n",
    "                )\n",
    "\n",
    "    def _sampler_step(self, observation, current_state):\n",
    "        sampled_row, sampled_column = self.neighbours_sampler.sample_key()\n",
    "        current_state[sampled_row, sampled_column] = self._get_opposite_value(\n",
    "            current_state[sampled_row, sampled_column]\n",
    "        )\n",
    "        positions_to_update = [\n",
    "            (sampled_row, sampled_column), (sampled_row - 1, sampled_column),\n",
    "            (sampled_row + 1, sampled_column), (sampled_row, sampled_column - 1),\n",
    "            (sampled_row, sampled_column + 1),\n",
    "        ]\n",
    "        for row, column in positions_to_update:\n",
    "            observation_value = observation[row, column]\n",
    "            next_value = self._get_opposite_value(current_state[row, column])\n",
    "            self._update_sampler_state(\n",
    "                row, column, current_state, observation_value, next_value,\n",
    "            )"
   ]
  },
  {
   "cell_type": "code",
   "execution_count": 217,
   "id": "alone-temperature",
   "metadata": {},
   "outputs": [
    {
     "data": {
      "text/plain": [
       "NoiseReducerStatistics(evaluation_losses=[0.34], computation_times=[0.21001203060150148])"
      ]
     },
     "execution_count": 217,
     "metadata": {},
     "output_type": "execute_result"
    }
   ],
   "source": [
    "reducer = GradientBasedNoiseReducer(\n",
    "    noise_level_prior=0.1,\n",
    "    observation_strength=1.0,\n",
    "    coupling_strength=1.0,    \n",
    "    iterations_count=30_000,\n",
    "    iterations_per_evaluation=100,\n",
    "    temperature = 2.0\n",
    ")\n",
    "reducer_result = reducer.reduce_noise(BINARY_IMAGE_GROUND_TRUTH, BINARY_IMAGE_OBSEVATION)\n",
    "reducer.average_statistics"
   ]
  },
  {
   "cell_type": "code",
   "execution_count": 218,
   "id": "precise-athletics",
   "metadata": {},
   "outputs": [
    {
     "data": {
      "image/png": "[encoded data removed]",
      "text/plain": [
       "<Figure size 864x576 with 1 Axes>"
      ]
     },
     "metadata": {},
     "output_type": "display_data"
    }
   ],
   "source": [
    "show_image(reducer_result.reduced_image)"
   ]
  },
  {
   "cell_type": "markdown",
   "id": "familiar-country",
   "metadata": {},
   "source": [
    "## Xxx"
   ]
  },
  {
   "cell_type": "code",
   "execution_count": null,
   "id": "threatened-latino",
   "metadata": {},
   "outputs": [],
   "source": []
  }
 ],
 "metadata": {
  "kernelspec": {
   "display_name": "Python 3",
   "language": "python",
   "name": "python3"
  },
  "language_info": {
   "codemirror_mode": {
    "name": "ipython",
    "version": 3
   },
   "file_extension": ".py",
   "mimetype": "text/x-python",
   "name": "python",
   "nbconvert_exporter": "python",
   "pygments_lexer": "ipython3",
   "version": "3.7.3"
  }
 },
 "nbformat": 4,
 "nbformat_minor": 5
}
