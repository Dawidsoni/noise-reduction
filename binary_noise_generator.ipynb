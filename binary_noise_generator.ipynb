{
 "cells": [
  {
   "cell_type": "code",
   "execution_count": 231,
   "id": "stretch-samba",
   "metadata": {},
   "outputs": [],
   "source": [
    "import enum\n",
    "import os\n",
    "import functools\n",
    "import numpy as np\n",
    "import PIL\n",
    "from PIL import Image, ImageDraw\n",
    "import matplotlib.pyplot as plt\n",
    "import random\n",
    "import string"
   ]
  },
  {
   "cell_type": "markdown",
   "id": "twelve-saturday",
   "metadata": {},
   "source": [
    "## Enums"
   ]
  },
  {
   "cell_type": "code",
   "execution_count": 63,
   "id": "virtual-analyst",
   "metadata": {},
   "outputs": [],
   "source": [
    "class ImageCategory(enum.Enum):\n",
    "    EASY = \"easy\"\n",
    "    MEDIUM = \"medium\"\n",
    "    HARD = \"hard\"\n",
    "\n",
    "\n",
    "class ImageType(enum.Enum):\n",
    "    GROUND_TRUTH = \"ground_truth\"\n",
    "    OBSERVATION = \"observation\""
   ]
  },
  {
   "cell_type": "markdown",
   "id": "statutory-being",
   "metadata": {},
   "source": [
    "## Utilities"
   ]
  },
  {
   "cell_type": "code",
   "execution_count": 68,
   "id": "published-boost",
   "metadata": {},
   "outputs": [],
   "source": [
    "def show_image(image):\n",
    "    plt.figure(figsize=(12, 8))\n",
    "    plt.tick_params(labelbottom=False, labelleft=False)    \n",
    "    plt.imshow(image, cmap='gray')\n",
    "\n",
    "\n",
    "def save_image(image_data, image_id, image_type, image_category):\n",
    "    path = os.path.join(\n",
    "        \"binary_images\", f\"{image_data.width}x{image_data.height}\",\n",
    "        image_category.value, f\"image_{image_id}_{image_type.value}.png\"\n",
    "    )\n",
    "    os.makedirs(os.path.dirname(path), exist_ok=True)\n",
    "    image_data.save(path, format=\"PNG\")"
   ]
  },
  {
   "cell_type": "markdown",
   "id": "individual-emphasis",
   "metadata": {},
   "source": [
    "## Drawing"
   ]
  },
  {
   "cell_type": "code",
   "execution_count": 385,
   "id": "superb-section",
   "metadata": {},
   "outputs": [],
   "source": [
    "def draw_ellipse(image, max_width, max_height, color=255):\n",
    "    origin = (random.randint(0, image.width), random.randint(0, image.height))\n",
    "    width = random.randint(int(0.2 * max_width), max_width + 1)\n",
    "    height = random.randint(int(0.2 * max_height), max_height + 1)\n",
    "    ImageDraw.Draw(image).ellipse(\n",
    "        xy=[(origin[0] - width/2, origin[1] - height/2),\n",
    "            (origin[0] + width/2, origin[1] + height/2)],\n",
    "        fill=color)\n",
    "\n",
    "\n",
    "def draw_circle(image, max_width, max_height, color=255):\n",
    "    origin = (random.randint(0, image.width), random.randint(0, image.height))\n",
    "    max_size = min(max_width, max_height)\n",
    "    size = random.randint(int(0.2 * max_size), max_size + 1)\n",
    "    ImageDraw.Draw(image).ellipse(\n",
    "        xy=[(origin[0] - size/2, origin[1] - size/2),\n",
    "            (origin[0] + size/2, origin[1] + size/2)],\n",
    "        fill=color)\n",
    "\n",
    "\n",
    "def draw_rectangle(image, max_width, max_height, color=255):\n",
    "    origin = (random.randint(0, image.width), random.randint(0, image.height))\n",
    "    width = random.randint(int(0.2 * max_width), max_width + 1)\n",
    "    height = random.randint(int(0.2 * max_height), max_height + 1)    \n",
    "    ImageDraw.Draw(image).rectangle(\n",
    "        xy=[(origin[0] - width/2, origin[1] - height/2),\n",
    "            (origin[0] + width/2, origin[1] + height/2)],\n",
    "        fill=color)\n",
    "\n",
    "\n",
    "def draw_square(image, max_width, max_height, color=255):\n",
    "    origin = (random.randint(0, image.width), random.randint(0, image.height))\n",
    "    max_size = min(max_width, max_height)\n",
    "    size = random.randint(int(0.2 * max_size), max_size + 1)\n",
    "    ImageDraw.Draw(image).rectangle(\n",
    "        xy=[(origin[0] - size/2, origin[1] - size/2),\n",
    "            (origin[0] + size/2, origin[1] + size/2)],\n",
    "        fill=color)\n",
    "\n",
    "\n",
    "def draw_rounded_rectangle(image, max_width, max_height, color=255):\n",
    "    origin = (random.randint(0, image.width), random.randint(0, image.height))\n",
    "    width = random.randint(int(0.4 * max_width), max_width + 1)\n",
    "    height = random.randint(int(0.4 * max_height), max_height + 1)\n",
    "    radius = random.randint(\n",
    "        int(min(width, height) / 4.0), int(min(width, height) / 2.0)\n",
    "    )\n",
    "    ImageDraw.Draw(image).rounded_rectangle(\n",
    "        xy=[(origin[0] - width/2, origin[1] - height/2),\n",
    "            (origin[0] + width/2, origin[1] + height/2)],\n",
    "        fill=color,\n",
    "        radius=radius)\n",
    "\n",
    "\n",
    "def draw_line(image, max_width, max_height, color=255):\n",
    "    origin = (random.randint(0, image.width), random.randint(0, image.height))  \n",
    "    width = random.randint(int(0.1 * max_width), max_width + 1)\n",
    "    height = random.randint(int(0.1 * max_height), max_height + 1)\n",
    "    thickness = random.randint(1, int(0.02 * min(image.width, image.height)))\n",
    "    start_x, end_x =  origin[0] - width/2, origin[0] + width/2\n",
    "    if np.random.randint(2):\n",
    "        start_x, end_x = end_x, start_x\n",
    "    start_y, end_y = origin[1] - height/2, origin[1] + height/2\n",
    "    if np.random.randint(2):\n",
    "        start_y, end_y = end_y, start_y    \n",
    "    ImageDraw.Draw(image).line(\n",
    "        xy=[(start_x, start_y), (end_x, end_y)],\n",
    "        width=thickness,\n",
    "        fill=color)\n",
    "\n",
    "\n",
    "def draw_triangle(image, max_width, max_height, color=255):\n",
    "    width = random.randint(int(0.3 * max_width), max_width + 1)\n",
    "    height = random.randint(int(0.3 * max_height), max_height + 1) \n",
    "    point1 = (\n",
    "        random.randint(0, int(0.8 * image.width)),\n",
    "        random.randint(0, int(0.8 * image.height)),\n",
    "    )\n",
    "    offset = (\n",
    "        random.randint(int(0.4 * width), width),\n",
    "        random.randint(int(0.4 * width), height),\n",
    "    )\n",
    "    point2 = (point1[0] + offset[0], point1[1] + offset[1])\n",
    "    point3 = (point1[0] + width, point1[1] + height)\n",
    "    ImageDraw.Draw(image).polygon([point1, point2, point3], fill=color)    \n",
    "\n",
    "\n",
    "def draw_text(image, max_width, max_height, color=255):\n",
    "    width = random.randint(int(0.3 * max_width), max_width + 1)\n",
    "    font = PIL.ImageFont.load_default()\n",
    "    text_length = random.randint(1, 4)\n",
    "    text = \"\".join([random.choice(string.ascii_letters) for _ in range(text_length)])\n",
    "    image_of_text = Image.new(mode='L', size=font.getsize(text))\n",
    "    ImageDraw.Draw(image_of_text).text(xy=[(0, 0)], text=text, font=font, fill=color)\n",
    "    height = min(int(image_of_text.height * (width / image_of_text.width)), max_height)\n",
    "    image_of_text = image_of_text.resize(size=(width, height))\n",
    "    text_array = np.array(image_of_text)\n",
    "    text_array[text_array > 127.5] = 255\n",
    "    text_array[text_array < 127.5] = 0\n",
    "    image_of_text = PIL.Image.fromarray(text_array)\n",
    "    left_corner = (\n",
    "        random.randint(0, int(0.8 * image.width)),\n",
    "        random.randint(0, int(0.8 * image.height)),\n",
    "    )    \n",
    "    image.paste(image_of_text, box=left_corner)"
   ]
  },
  {
   "cell_type": "code",
   "execution_count": null,
   "id": "universal-layer",
   "metadata": {},
   "outputs": [],
   "source": []
  },
  {
   "cell_type": "markdown",
   "id": "several-porter",
   "metadata": {},
   "source": [
    "## Generating images"
   ]
  },
  {
   "cell_type": "code",
   "execution_count": 406,
   "id": "every-suffering",
   "metadata": {},
   "outputs": [
    {
     "data": {
      "image/png": "[encoded data removed]",
      "text/plain": [
       "<Figure size 864x576 with 1 Axes>"
      ]
     },
     "metadata": {},
     "output_type": "display_data"
    }
   ],
   "source": [
    "def generate_easy_image(size_of_image):\n",
    "    image = Image.new(mode='L', size=size_of_image)\n",
    "\n",
    "    return image\n",
    "    \n",
    "\n",
    "def generate_medium_image(size_of_image):\n",
    "    image = Image.new(mode='L', size=size_of_image)\n",
    "\n",
    "    return image\n",
    "\n",
    "\n",
    "def generate_hard_image(size_of_image):\n",
    "    image = Image.new(mode='L', size=size_of_image)\n",
    "\n",
    "    return image\n",
    "    \n",
    "\n",
    "image = Image.new(mode='L', size=(100, 100))\n",
    "# draw_rounded_rectangle(image, width=20, height=30)\n",
    "#drawable_image.ellipse(xy=[(30, 30), (50, 70)], fill=255)\n",
    "#drawable_image.polygon([(20,10), (10, 50), (40, 40)], fill=255)\n",
    "#drawable_image.polygon([(80, 80), (80, 90), (90, 90), (90, 80)], fill=255)\n",
    "#drawable_image.polygon([(60, 60), (60, 90), (70, 90), (70, 60)], fill=255)\n",
    "#drawable_image.rounded_rectangle([(60, 10), (90, 20)], radius=5, fill=255)\n",
    "#drawable_image.text([(10, 80)], text=\"abc\", fill=255)\n",
    "draw_text(image, max_width=30, max_height=30, color=255)\n",
    "show_image(image)"
   ]
  },
  {
   "cell_type": "markdown",
   "id": "funny-honduras",
   "metadata": {},
   "source": [
    "## Generating noise"
   ]
  },
  {
   "cell_type": "code",
   "execution_count": null,
   "id": "accompanied-mineral",
   "metadata": {},
   "outputs": [],
   "source": []
  },
  {
   "cell_type": "markdown",
   "id": "elementary-relaxation",
   "metadata": {},
   "source": [
    "## Running developed generator"
   ]
  },
  {
   "cell_type": "code",
   "execution_count": null,
   "id": "wireless-mechanics",
   "metadata": {},
   "outputs": [],
   "source": []
  }
 ],
 "metadata": {
  "kernelspec": {
   "display_name": "Python 3",
   "language": "python",
   "name": "python3"
  },
  "language_info": {
   "codemirror_mode": {
    "name": "ipython",
    "version": 3
   },
   "file_extension": ".py",
   "mimetype": "text/x-python",
   "name": "python",
   "nbconvert_exporter": "python",
   "pygments_lexer": "ipython3",
   "version": "3.7.3"
  }
 },
 "nbformat": 4,
 "nbformat_minor": 5
}
