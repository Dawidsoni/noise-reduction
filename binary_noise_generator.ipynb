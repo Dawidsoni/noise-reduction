{
 "cells": [
  {
   "cell_type": "code",
   "execution_count": 1,
   "id": "inner-makeup",
   "metadata": {},
   "outputs": [],
   "source": [
    "import enum\n",
    "import os\n",
    "import functools\n",
    "import numpy as np\n",
    "import PIL\n",
    "from PIL import Image, ImageDraw\n",
    "import matplotlib.pyplot as plt\n",
    "import random\n",
    "import string"
   ]
  },
  {
   "cell_type": "markdown",
   "id": "challenging-transaction",
   "metadata": {},
   "source": [
    "## Enums"
   ]
  },
  {
   "cell_type": "code",
   "execution_count": 2,
   "id": "black-execution",
   "metadata": {},
   "outputs": [],
   "source": [
    "class ImageCategory(enum.Enum):\n",
    "    EASY = \"easy\"\n",
    "    MEDIUM = \"medium\"\n",
    "    HARD = \"hard\"\n",
    "\n",
    "\n",
    "class ImageType(enum.Enum):\n",
    "    GROUND_TRUTH = \"ground_truth\"\n",
    "    OBSERVATION = \"observation\""
   ]
  },
  {
   "cell_type": "markdown",
   "id": "graduate-advice",
   "metadata": {},
   "source": [
    "## Utilities"
   ]
  },
  {
   "cell_type": "code",
   "execution_count": 3,
   "id": "covered-investigation",
   "metadata": {},
   "outputs": [],
   "source": [
    "def show_image(image):\n",
    "    plt.figure(figsize=(12, 8))\n",
    "    plt.tick_params(labelbottom=False, labelleft=False)    \n",
    "    plt.imshow(image, cmap='gray')\n",
    "\n",
    "\n",
    "def save_image(image_data, image_id, image_type, image_category, noise_level):\n",
    "    printable_noise = int(round(100 * noise_level))\n",
    "    path = os.path.join(\n",
    "        \"binary_images\",\n",
    "        f\"{image_data.width}x{image_data.height}_{image_category.value}_noise{printable_noise}\",\n",
    "        f\"image_{image_id}_{image_type.value}.png\",\n",
    "    )\n",
    "    os.makedirs(os.path.dirname(path), exist_ok=True)\n",
    "    image_data.save(path, format=\"PNG\")"
   ]
  },
  {
   "cell_type": "markdown",
   "id": "compressed-security",
   "metadata": {},
   "source": [
    "## Drawing"
   ]
  },
  {
   "cell_type": "code",
   "execution_count": 4,
   "id": "associate-affiliation",
   "metadata": {},
   "outputs": [],
   "source": [
    "def draw_ellipse(image, max_width, max_height, color=255):\n",
    "    origin = (random.randint(0, image.width), random.randint(0, image.height))\n",
    "    width = random.randint(int(0.2 * max_width), max_width + 1)\n",
    "    height = random.randint(int(0.2 * max_height), max_height + 1)\n",
    "    ImageDraw.Draw(image).ellipse(\n",
    "        xy=[(origin[0] - width/2, origin[1] - height/2),\n",
    "            (origin[0] + width/2, origin[1] + height/2)],\n",
    "        fill=color)\n",
    "\n",
    "\n",
    "def draw_circle(image, max_width, max_height, color=255):\n",
    "    origin = (random.randint(0, image.width), random.randint(0, image.height))\n",
    "    max_size = min(max_width, max_height)\n",
    "    size = random.randint(int(0.2 * max_size), max_size + 1)\n",
    "    ImageDraw.Draw(image).ellipse(\n",
    "        xy=[(origin[0] - size/2, origin[1] - size/2),\n",
    "            (origin[0] + size/2, origin[1] + size/2)],\n",
    "        fill=color)\n",
    "\n",
    "\n",
    "def draw_rectangle(image, max_width, max_height, color=255):\n",
    "    origin = (random.randint(0, image.width), random.randint(0, image.height))\n",
    "    width = random.randint(int(0.2 * max_width), max_width + 1)\n",
    "    height = random.randint(int(0.2 * max_height), max_height + 1)    \n",
    "    ImageDraw.Draw(image).rectangle(\n",
    "        xy=[(origin[0] - width/2, origin[1] - height/2),\n",
    "            (origin[0] + width/2, origin[1] + height/2)],\n",
    "        fill=color)\n",
    "\n",
    "\n",
    "def draw_square(image, max_width, max_height, color=255):\n",
    "    origin = (random.randint(0, image.width), random.randint(0, image.height))\n",
    "    max_size = min(max_width, max_height)\n",
    "    size = random.randint(int(0.2 * max_size), max_size + 1)\n",
    "    ImageDraw.Draw(image).rectangle(\n",
    "        xy=[(origin[0] - size/2, origin[1] - size/2),\n",
    "            (origin[0] + size/2, origin[1] + size/2)],\n",
    "        fill=color)\n",
    "\n",
    "\n",
    "def draw_rounded_rectangle(image, max_width, max_height, color=255):\n",
    "    origin = (random.randint(0, image.width), random.randint(0, image.height))\n",
    "    width = random.randint(int(0.4 * max_width), max_width + 1)\n",
    "    height = random.randint(int(0.4 * max_height), max_height + 1)\n",
    "    radius = random.randint(\n",
    "        int(min(width, height) / 4.0), int(min(width, height) / 2.0)\n",
    "    )\n",
    "    ImageDraw.Draw(image).rounded_rectangle(\n",
    "        xy=[(origin[0] - width/2, origin[1] - height/2),\n",
    "            (origin[0] + width/2, origin[1] + height/2)],\n",
    "        fill=color,\n",
    "        radius=radius)\n",
    "\n",
    "\n",
    "def draw_line(image, max_width, max_height, color=255):\n",
    "    origin = (random.randint(0, image.width), random.randint(0, image.height))  \n",
    "    width = random.randint(int(0.1 * max_width), max_width + 1)\n",
    "    height = random.randint(int(0.1 * max_height), max_height + 1)\n",
    "    thickness = random.randint(1, int(0.02 * min(image.width, image.height)))\n",
    "    start_x, end_x =  origin[0] - width/2, origin[0] + width/2\n",
    "    if np.random.randint(2):\n",
    "        start_x, end_x = end_x, start_x\n",
    "    start_y, end_y = origin[1] - height/2, origin[1] + height/2\n",
    "    if np.random.randint(2):\n",
    "        start_y, end_y = end_y, start_y    \n",
    "    ImageDraw.Draw(image).line(\n",
    "        xy=[(start_x, start_y), (end_x, end_y)],\n",
    "        width=thickness,\n",
    "        fill=color)\n",
    "\n",
    "\n",
    "def draw_triangle(image, max_width, max_height, color=255):\n",
    "    width = random.randint(int(0.3 * max_width), max_width + 1)\n",
    "    height = random.randint(int(0.3 * max_height), max_height + 1) \n",
    "    point1 = (\n",
    "        random.randint(0, int(0.8 * image.width)),\n",
    "        random.randint(0, int(0.8 * image.height)),\n",
    "    )\n",
    "    offset = (\n",
    "        random.randint(int(0.4 * width), width),\n",
    "        random.randint(int(0.4 * height), height),\n",
    "    )\n",
    "    point2 = (point1[0] + offset[0], point1[1] + offset[1])\n",
    "    point3 = (point1[0] + width, point1[1] + height)\n",
    "    ImageDraw.Draw(image).polygon([point1, point2, point3], fill=color)    \n",
    "\n",
    "\n",
    "def draw_text(image, max_width, max_height, color=255):\n",
    "    width = random.randint(int(0.3 * max_width), max_width + 1)\n",
    "    font = PIL.ImageFont.load_default()\n",
    "    text_length = random.randint(1, 4)\n",
    "    text = \"\".join([random.choice(string.ascii_letters) for _ in range(text_length)])\n",
    "    image_of_text = Image.new(mode='L', size=font.getsize(text))\n",
    "    ImageDraw.Draw(image_of_text).text(xy=[(0, 0)], text=text, font=font, fill=color)\n",
    "    height = min(int(image_of_text.height * (width / image_of_text.width)), max_height)\n",
    "    image_of_text = image_of_text.resize(size=(width, height))\n",
    "    text_array = np.array(image_of_text)\n",
    "    text_array[text_array > 127.5] = 255\n",
    "    text_array[text_array < 127.5] = 0\n",
    "    image_of_text = PIL.Image.fromarray(text_array)\n",
    "    left_corner = (\n",
    "        random.randint(0, int(0.8 * image.width)),\n",
    "        random.randint(0, int(0.8 * image.height)),\n",
    "    )    \n",
    "    image.paste(image_of_text, box=left_corner)"
   ]
  },
  {
   "cell_type": "code",
   "execution_count": 5,
   "id": "critical-lying",
   "metadata": {},
   "outputs": [],
   "source": [
    "AVAILABLE_DRAWING_FUNCTIONS = [\n",
    "    draw_ellipse, draw_circle, draw_rectangle, draw_square,\n",
    "    draw_rounded_rectangle, draw_line, draw_triangle, draw_text\n",
    "]"
   ]
  },
  {
   "cell_type": "markdown",
   "id": "marine-hostel",
   "metadata": {},
   "source": [
    "## Generating images"
   ]
  },
  {
   "cell_type": "code",
   "execution_count": 6,
   "id": "arranged-canada",
   "metadata": {},
   "outputs": [],
   "source": [
    "def generate_easy_image(size_of_image):\n",
    "    image = Image.new(mode='L', size=size_of_image)    \n",
    "    drawing_functions = AVAILABLE_DRAWING_FUNCTIONS.copy()\n",
    "    drawing_functions.remove(draw_text)\n",
    "    drawing_functions.remove(draw_line)\n",
    "    max_width, max_height = int(image.width / 2), int(image.height / 2)\n",
    "    for _ in range(np.random.randint(3, 6)):\n",
    "        draw_object = random.choice(drawing_functions)\n",
    "        draw_object(image, max_width, max_height, color=255)\n",
    "    return image\n",
    "    \n",
    "\n",
    "def generate_medium_image(size_of_image):\n",
    "    image = Image.new(mode='L', size=size_of_image)    \n",
    "    drawing_functions = AVAILABLE_DRAWING_FUNCTIONS.copy()\n",
    "    objects_count = np.random.randint(8, 16)\n",
    "    max_ratio = 0.25 if objects_count >= 11 else 0.33 \n",
    "    max_width, max_height = int(image.width * max_ratio), int(image.height * max_ratio)\n",
    "    drawing_probs = np.ones(shape=(len(drawing_functions), ), dtype=np.float32)\n",
    "    drawing_probs[drawing_functions.index(draw_text)] = 3.0\n",
    "    drawing_probs[drawing_functions.index(draw_line)] = 3.0    \n",
    "    drawing_probs /= np.sum(drawing_probs)\n",
    "    for _ in range(objects_count):\n",
    "        draw_object = np.random.choice(drawing_functions, p=drawing_probs)\n",
    "        draw_object(image, max_width, max_height, color=255)\n",
    "    return image\n",
    "    \n",
    "\n",
    "def generate_hard_image(size_of_image):\n",
    "    image = generate_medium_image(size_of_image)\n",
    "    drawing_functions = [draw_circle, draw_line, draw_square]\n",
    "    max_width, max_height = int(image.width * 0.1), int(image.height * 0.1)\n",
    "    for _ in range(50):\n",
    "        draw_object = random.choice(drawing_functions)\n",
    "        draw_object(image, max_width, max_height, color=0)\n",
    "    return image\n",
    "\n",
    "\n",
    "def generate_from_category(category, size_of_image):\n",
    "    if category == ImageCategory.EASY:\n",
    "        return generate_easy_image(size_of_image)\n",
    "    if category == ImageCategory.MEDIUM:\n",
    "        return generate_medium_image(size_of_image)\n",
    "    if category == ImageCategory.HARD:\n",
    "        return generate_hard_image(size_of_image)\n",
    "    else:\n",
    "        raise ValueError(f\"Unknown category: {category}\")"
   ]
  },
  {
   "cell_type": "markdown",
   "id": "medieval-assessment",
   "metadata": {},
   "source": [
    "## Generating noise"
   ]
  },
  {
   "cell_type": "code",
   "execution_count": 7,
   "id": "straight-remainder",
   "metadata": {},
   "outputs": [],
   "source": [
    "def generate_noise(image, noise_level):\n",
    "    array_of_image = np.array(image)\n",
    "    flipped_pixels = np.random.choice(\n",
    "        a=[False, True],\n",
    "        size=array_of_image.shape,\n",
    "        p=[1.0 - noise_level, noise_level]\n",
    "    )\n",
    "    array_of_image[flipped_pixels] = 255 - array_of_image[flipped_pixels]\n",
    "    return PIL.Image.fromarray(array_of_image)"
   ]
  },
  {
   "cell_type": "markdown",
   "id": "exact-brook",
   "metadata": {},
   "source": [
    "## Running developed generator"
   ]
  },
  {
   "cell_type": "code",
   "execution_count": 8,
   "id": "brief-spencer",
   "metadata": {},
   "outputs": [],
   "source": [
    "def run_for_parameters(noise_level, category, image_size):\n",
    "    for image_id in range(100):\n",
    "        ground_truth_image = generate_from_category(category, image_size)\n",
    "        save_image(\n",
    "            ground_truth_image, image_id, ImageType.GROUND_TRUTH, category, noise_level\n",
    "        )\n",
    "        observation = generate_noise(ground_truth_image, noise_level)\n",
    "        save_image(\n",
    "            observation, image_id, ImageType.OBSERVATION, category, noise_level\n",
    "        )\n",
    "\n",
    "\n",
    "def run_generator():\n",
    "    for noise_level in np.arange(0.01, 0.151, 0.01):\n",
    "        for category in [ImageCategory.EASY, ImageCategory.MEDIUM, ImageCategory.HARD]:\n",
    "            for image_size in [(100, 100), (300, 300), (500, 500), (1000, 1000)]:\n",
    "                run_for_parameters(noise_level, category, image_size)"
   ]
  },
  {
   "cell_type": "code",
   "execution_count": 9,
   "id": "completed-forth",
   "metadata": {},
   "outputs": [],
   "source": [
    "run_generator()"
   ]
  },
  {
   "cell_type": "code",
   "execution_count": null,
   "id": "inclusive-mouse",
   "metadata": {},
   "outputs": [],
   "source": []
  }
 ],
 "metadata": {
  "kernelspec": {
   "display_name": "Python 3",
   "language": "python",
   "name": "python3"
  },
  "language_info": {
   "codemirror_mode": {
    "name": "ipython",
    "version": 3
   },
   "file_extension": ".py",
   "mimetype": "text/x-python",
   "name": "python",
   "nbconvert_exporter": "python",
   "pygments_lexer": "ipython3",
   "version": "3.7.3"
  }
 },
 "nbformat": 4,
 "nbformat_minor": 5
}
