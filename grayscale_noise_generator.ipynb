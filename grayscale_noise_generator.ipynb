{
 "cells": [
  {
   "cell_type": "code",
   "execution_count": 1,
   "id": "involved-concentration",
   "metadata": {},
   "outputs": [],
   "source": [
    "import enum\n",
    "import numpy as np\n",
    "import PIL\n",
    "import os\n",
    "import functools\n",
    "from PIL import Image\n",
    "import matplotlib.pyplot as plt\n",
    "import scipy.stats"
   ]
  },
  {
   "cell_type": "markdown",
   "id": "plain-somalia",
   "metadata": {},
   "source": [
    "## Loading data"
   ]
  },
  {
   "cell_type": "code",
   "execution_count": 2,
   "id": "studied-semester",
   "metadata": {},
   "outputs": [],
   "source": [
    "class NoiseType(enum.Enum):\n",
    "    INDEPENDENT = \"independent\"\n",
    "    GAUSSIAN = \"gaussian\"\n",
    "\n",
    "\n",
    "class ImageType(enum.Enum):\n",
    "    GROUND_TRUTH = \"ground_truth\"\n",
    "    OBSERVATION = \"observation\""
   ]
  },
  {
   "cell_type": "code",
   "execution_count": 3,
   "id": "amino-edwards",
   "metadata": {},
   "outputs": [],
   "source": [
    "TARGET_SIZE = 800"
   ]
  },
  {
   "cell_type": "code",
   "execution_count": 4,
   "id": "confidential-guitar",
   "metadata": {},
   "outputs": [],
   "source": [
    "def show_image(image):\n",
    "    plt.figure(figsize=(12, 8))\n",
    "    plt.tick_params(labelbottom=False, labelleft=False)    \n",
    "    plt.imshow(image, cmap='gray')\n",
    "\n",
    "\n",
    "def load_ground_truth_images():\n",
    "    images = []\n",
    "    for image_id in range(20):\n",
    "        image = Image.open(f\"grayscale_images/raw/{image_id}.jpeg\")\n",
    "        if image.width > image.height:\n",
    "            target_width = TARGET_SIZE\n",
    "            target_height = int(image.height * (TARGET_SIZE / image.width))\n",
    "        else:\n",
    "            target_width = int(image.width * (TARGET_SIZE / image.height))\n",
    "            target_height = TARGET_SIZE\n",
    "        image = image.resize(size=(target_width, target_height)).convert(mode='L')\n",
    "        images.append(image)\n",
    "    return images\n",
    "\n",
    "\n",
    "def save_image(image_data, image_id, image_type, noise_type, noise_level, max_noise_distance):\n",
    "    noise_level_repr = int(round(100 * noise_level))\n",
    "    noise_repr = f\"noise{noise_level_repr}_{noise_type.value}_distance{max_noise_distance}\"\n",
    "    path = os.path.join(\n",
    "        \"grayscale_images\",\n",
    "        f\"size{max(image_data.width, image_data.height)}_{noise_repr}\",\n",
    "        f\"image_{image_id}_{image_type.value}.png\",\n",
    "    )\n",
    "    os.makedirs(os.path.dirname(path), exist_ok=True)\n",
    "    image_data.save(path, format=\"PNG\")"
   ]
  },
  {
   "cell_type": "code",
   "execution_count": 5,
   "id": "visible-insertion",
   "metadata": {},
   "outputs": [
    {
     "data": {
      "text/plain": [
       "20"
      ]
     },
     "execution_count": 5,
     "metadata": {},
     "output_type": "execute_result"
    }
   ],
   "source": [
    "ground_truth_images = load_ground_truth_images()\n",
    "len(ground_truth_images)"
   ]
  },
  {
   "cell_type": "markdown",
   "id": "abroad-significance",
   "metadata": {},
   "source": [
    "## Generating noise"
   ]
  },
  {
   "cell_type": "code",
   "execution_count": 6,
   "id": "retained-sierra",
   "metadata": {},
   "outputs": [],
   "source": [
    "def generate_independent_noise(image, noise_level, max_noise_distance):\n",
    "    array_of_image = np.array(image).astype(np.int32)\n",
    "    noisy_indices = np.random.choice(\n",
    "        a=[False, True],\n",
    "        size=array_of_image.shape,\n",
    "        p=[1.0 - noise_level, noise_level]\n",
    "    )\n",
    "    noisy_pixels = array_of_image[noisy_indices].copy()\n",
    "    noise = np.random.randint(\n",
    "        low=-max_noise_distance, high=(max_noise_distance + 1), size=noisy_pixels.size\n",
    "    )\n",
    "    noisy_pixels += noise\n",
    "    noisy_pixels[noisy_pixels < 0] = 0\n",
    "    noisy_pixels[noisy_pixels > 255] = 255\n",
    "    array_of_image[noisy_indices] = noisy_pixels\n",
    "    return PIL.Image.fromarray(array_of_image.astype(np.uint8))\n",
    "\n",
    "\n",
    "@functools.lru_cache(maxsize=None)\n",
    "def gaussian_distribution(point):\n",
    "    distribution = scipy.stats.multivariate_normal(mean=(0, 0), cov=5)\n",
    "    return distribution.pdf(point)\n",
    "\n",
    "\n",
    "def generate_gaussian_noise(image, noise_level, max_noise_distance):\n",
    "    array_of_image = np.array(image).astype(np.int32)\n",
    "    noise_center_strength = gaussian_distribution((0, 0))\n",
    "    for _ in range(int(noise_level * array_of_image.size)):\n",
    "        noise_center = (\n",
    "            np.random.randint(0, image.height),\n",
    "            np.random.randint(0, image.width),\n",
    "        )\n",
    "        noise_center_distance = np.random.randint(\n",
    "            low=-max_noise_distance, high=max_noise_distance + 1\n",
    "        )\n",
    "        for offset_x in range(-7, 8):\n",
    "            for offset_y in range(-5 + abs(offset_x), 5 - abs(offset_x) + 1):\n",
    "                noise_position = (\n",
    "                    noise_center[0] - offset_x, noise_center[1] - offset_y\n",
    "                )\n",
    "                if noise_position[0] < 0 or noise_position[0] >= array_of_image.shape[0]:\n",
    "                    continue\n",
    "                if noise_position[1] < 0 or noise_position[1] >= array_of_image.shape[1]:\n",
    "                    continue\n",
    "                noise_absolute_strength = gaussian_distribution((offset_x, offset_y))\n",
    "                noise_relative_strength = noise_absolute_strength / noise_center_strength\n",
    "                noise_distance = int(noise_relative_strength * noise_center_distance)\n",
    "                array_of_image[noise_position] += noise_distance\n",
    "    array_of_image[array_of_image < 0] = 0\n",
    "    array_of_image[array_of_image > 255] = 255\n",
    "    return PIL.Image.fromarray(array_of_image.astype(np.uint8))\n",
    "\n",
    "\n",
    "def generate_noise(image, noise_type, noise_level, max_noise_distance):\n",
    "    if noise_type == NoiseType.INDEPENDENT:\n",
    "        return generate_independent_noise(image, noise_level, max_noise_distance)\n",
    "    elif noise_type == NoiseType.GAUSSIAN:\n",
    "        return generate_gaussian_noise(image, noise_level, max_noise_distance)\n",
    "    else:\n",
    "        raise ValueError(f\"Invalid noise type: {noise_type}\")"
   ]
  },
  {
   "cell_type": "markdown",
   "id": "european-counter",
   "metadata": {},
   "source": [
    "## Running developed generator"
   ]
  },
  {
   "cell_type": "code",
   "execution_count": 7,
   "id": "extra-repeat",
   "metadata": {},
   "outputs": [],
   "source": [
    "def generate_for_params(images, noise_type, noise_level, max_noise_distance):\n",
    "    for image_id, image in enumerate(images):\n",
    "        save_image(\n",
    "            image, image_id, ImageType.GROUND_TRUTH,\n",
    "            noise_type, noise_level, max_noise_distance\n",
    "        )  \n",
    "        observation = generate_noise(image, noise_type, noise_level, max_noise_distance)\n",
    "        save_image(\n",
    "            observation, image_id, ImageType.OBSERVATION,\n",
    "            noise_type, noise_level, max_noise_distance\n",
    "        )  \n",
    "\n",
    "\n",
    "def run_generator(images):\n",
    "    for noise_type in [NoiseType.GAUSSIAN, NoiseType.INDEPENDENT]:\n",
    "        noise_levels = (\n",
    "            [0.1, 0.15, 0.2, 0.25] if noise_type == NoiseType.INDEPENDENT\n",
    "            else [0.01, 0.02, 0.03, 0.05]\n",
    "        )\n",
    "        for noise_level in noise_levels:           \n",
    "            for max_noise_distance in [50, 100, 150, 200, 255]:\n",
    "                generate_for_params(images, noise_type, noise_level, max_noise_distance)        "
   ]
  },
  {
   "cell_type": "code",
   "execution_count": 8,
   "id": "ordinary-shanghai",
   "metadata": {},
   "outputs": [],
   "source": [
    "run_generator(ground_truth_images)"
   ]
  },
  {
   "cell_type": "code",
   "execution_count": null,
   "id": "conceptual-passing",
   "metadata": {},
   "outputs": [],
   "source": []
  }
 ],
 "metadata": {
  "kernelspec": {
   "display_name": "Python 3",
   "language": "python",
   "name": "python3"
  },
  "language_info": {
   "codemirror_mode": {
    "name": "ipython",
    "version": 3
   },
   "file_extension": ".py",
   "mimetype": "text/x-python",
   "name": "python",
   "nbconvert_exporter": "python",
   "pygments_lexer": "ipython3",
   "version": "3.7.3"
  }
 },
 "nbformat": 4,
 "nbformat_minor": 5
}
